{
 "cells": [
  {
   "cell_type": "markdown",
   "id": "565be121",
   "metadata": {},
   "source": [
    "# Insurance Claim Prediction"
   ]
  },
  {
   "cell_type": "raw",
   "id": "c468b142",
   "metadata": {},
   "source": [
    "The list of steps covered in this notebook are :\n",
    "\n",
    "1.Importing Libraries\n",
    "2.Data Exploration\n",
    "3.Exploratory Data Analysis (EDA)\n",
    "4.Data Pre-processing\n",
    "5.Data Augmentation\n",
    "6.Feature Selection\n",
    "7.Predictive Modelling"
   ]
  },
  {
   "cell_type": "markdown",
   "id": "c3ddd255",
   "metadata": {},
   "source": [
    "## 1. Importing necessary libraries"
   ]
  },
  {
   "cell_type": "code",
   "execution_count": 48,
   "id": "052979f2",
   "metadata": {},
   "outputs": [],
   "source": [
    "from random import randint\n",
    "import numpy as np\n",
    "import pandas as pd\n",
    "import matplotlib.pyplot as plt\n",
    "import seaborn as sns\n",
    "from sklearn.preprocessing import OneHotEncoder\n",
    "from scipy .stats import shapiro,jarque_bera,kstest,iqr,loguniform\n",
    "from imblearn.over_sampling import SMOTE\n",
    "from sklearn.model_selection import train_test_split\n",
    "from sklearn.preprocessing import StandardScaler\n",
    "from statsmodels.stats.outliers_influence import variance_inflation_factor\n",
    "from sklearn.feature_selection import SelectKBest\n",
    "from sklearn.feature_selection import chi2, f_classif,mutual_info_classif\n",
    "from sklearn.ensemble import GradientBoostingClassifier\n",
    "from sklearn.tree import DecisionTreeClassifier\n",
    "from sklearn.naive_bayes import BernoulliNB\n",
    "from sklearn.neighbors import KNeighborsClassifier\n",
    "from xgboost import XGBClassifier\n",
    "from sklearn.model_selection import RandomizedSearchCV,GridSearchCV,RepeatedStratifiedKFold\n",
    "from sklearn.metrics import f1_score,accuracy_score,classification_report,precision_score,recall_score,roc_auc_score,roc_curve,confusion_matrix\n",
    "import warnings\n",
    "warnings.filterwarnings(\"ignore\")"
   ]
  },
  {
   "cell_type": "code",
   "execution_count": 3,
   "id": "796af185",
   "metadata": {},
   "outputs": [],
   "source": [
    "df1=pd.read_csv('./train_qWM28Yl.csv')\n",
    "copydf1=df1.copy()"
   ]
  },
  {
   "cell_type": "markdown",
   "id": "3a187ab9",
   "metadata": {},
   "source": [
    "## 2.Data Exploration"
   ]
  },
  {
   "cell_type": "code",
   "execution_count": 4,
   "id": "0a3e8e52",
   "metadata": {},
   "outputs": [
    {
     "data": {
      "text/html": [
       "<div>\n",
       "<style scoped>\n",
       "    .dataframe tbody tr th:only-of-type {\n",
       "        vertical-align: middle;\n",
       "    }\n",
       "\n",
       "    .dataframe tbody tr th {\n",
       "        vertical-align: top;\n",
       "    }\n",
       "\n",
       "    .dataframe thead th {\n",
       "        text-align: right;\n",
       "    }\n",
       "</style>\n",
       "<table border=\"1\" class=\"dataframe\">\n",
       "  <thead>\n",
       "    <tr style=\"text-align: right;\">\n",
       "      <th></th>\n",
       "      <th>policy_id</th>\n",
       "      <th>policy_tenure</th>\n",
       "      <th>age_of_car</th>\n",
       "      <th>age_of_policyholder</th>\n",
       "      <th>area_cluster</th>\n",
       "      <th>population_density</th>\n",
       "      <th>make</th>\n",
       "      <th>segment</th>\n",
       "      <th>model</th>\n",
       "      <th>fuel_type</th>\n",
       "      <th>...</th>\n",
       "      <th>is_brake_assist</th>\n",
       "      <th>is_power_door_locks</th>\n",
       "      <th>is_central_locking</th>\n",
       "      <th>is_power_steering</th>\n",
       "      <th>is_driver_seat_height_adjustable</th>\n",
       "      <th>is_day_night_rear_view_mirror</th>\n",
       "      <th>is_ecw</th>\n",
       "      <th>is_speed_alert</th>\n",
       "      <th>ncap_rating</th>\n",
       "      <th>is_claim</th>\n",
       "    </tr>\n",
       "  </thead>\n",
       "  <tbody>\n",
       "    <tr>\n",
       "      <th>0</th>\n",
       "      <td>ID00001</td>\n",
       "      <td>0.515874</td>\n",
       "      <td>0.05</td>\n",
       "      <td>0.644231</td>\n",
       "      <td>C1</td>\n",
       "      <td>4990</td>\n",
       "      <td>1</td>\n",
       "      <td>A</td>\n",
       "      <td>M1</td>\n",
       "      <td>CNG</td>\n",
       "      <td>...</td>\n",
       "      <td>No</td>\n",
       "      <td>No</td>\n",
       "      <td>No</td>\n",
       "      <td>Yes</td>\n",
       "      <td>No</td>\n",
       "      <td>No</td>\n",
       "      <td>No</td>\n",
       "      <td>Yes</td>\n",
       "      <td>0</td>\n",
       "      <td>0</td>\n",
       "    </tr>\n",
       "    <tr>\n",
       "      <th>1</th>\n",
       "      <td>ID00002</td>\n",
       "      <td>0.672619</td>\n",
       "      <td>0.02</td>\n",
       "      <td>0.375000</td>\n",
       "      <td>C2</td>\n",
       "      <td>27003</td>\n",
       "      <td>1</td>\n",
       "      <td>A</td>\n",
       "      <td>M1</td>\n",
       "      <td>CNG</td>\n",
       "      <td>...</td>\n",
       "      <td>No</td>\n",
       "      <td>No</td>\n",
       "      <td>No</td>\n",
       "      <td>Yes</td>\n",
       "      <td>No</td>\n",
       "      <td>No</td>\n",
       "      <td>No</td>\n",
       "      <td>Yes</td>\n",
       "      <td>0</td>\n",
       "      <td>0</td>\n",
       "    </tr>\n",
       "    <tr>\n",
       "      <th>2</th>\n",
       "      <td>ID00003</td>\n",
       "      <td>0.841110</td>\n",
       "      <td>0.02</td>\n",
       "      <td>0.384615</td>\n",
       "      <td>C3</td>\n",
       "      <td>4076</td>\n",
       "      <td>1</td>\n",
       "      <td>A</td>\n",
       "      <td>M1</td>\n",
       "      <td>CNG</td>\n",
       "      <td>...</td>\n",
       "      <td>No</td>\n",
       "      <td>No</td>\n",
       "      <td>No</td>\n",
       "      <td>Yes</td>\n",
       "      <td>No</td>\n",
       "      <td>No</td>\n",
       "      <td>No</td>\n",
       "      <td>Yes</td>\n",
       "      <td>0</td>\n",
       "      <td>0</td>\n",
       "    </tr>\n",
       "    <tr>\n",
       "      <th>3</th>\n",
       "      <td>ID00004</td>\n",
       "      <td>0.900277</td>\n",
       "      <td>0.11</td>\n",
       "      <td>0.432692</td>\n",
       "      <td>C4</td>\n",
       "      <td>21622</td>\n",
       "      <td>1</td>\n",
       "      <td>C1</td>\n",
       "      <td>M2</td>\n",
       "      <td>Petrol</td>\n",
       "      <td>...</td>\n",
       "      <td>Yes</td>\n",
       "      <td>Yes</td>\n",
       "      <td>Yes</td>\n",
       "      <td>Yes</td>\n",
       "      <td>Yes</td>\n",
       "      <td>Yes</td>\n",
       "      <td>Yes</td>\n",
       "      <td>Yes</td>\n",
       "      <td>2</td>\n",
       "      <td>0</td>\n",
       "    </tr>\n",
       "    <tr>\n",
       "      <th>4</th>\n",
       "      <td>ID00005</td>\n",
       "      <td>0.596403</td>\n",
       "      <td>0.11</td>\n",
       "      <td>0.634615</td>\n",
       "      <td>C5</td>\n",
       "      <td>34738</td>\n",
       "      <td>2</td>\n",
       "      <td>A</td>\n",
       "      <td>M3</td>\n",
       "      <td>Petrol</td>\n",
       "      <td>...</td>\n",
       "      <td>No</td>\n",
       "      <td>Yes</td>\n",
       "      <td>Yes</td>\n",
       "      <td>Yes</td>\n",
       "      <td>No</td>\n",
       "      <td>Yes</td>\n",
       "      <td>Yes</td>\n",
       "      <td>Yes</td>\n",
       "      <td>2</td>\n",
       "      <td>0</td>\n",
       "    </tr>\n",
       "  </tbody>\n",
       "</table>\n",
       "<p>5 rows × 44 columns</p>\n",
       "</div>"
      ],
      "text/plain": [
       "  policy_id  policy_tenure  age_of_car  age_of_policyholder area_cluster  \\\n",
       "0   ID00001       0.515874        0.05             0.644231           C1   \n",
       "1   ID00002       0.672619        0.02             0.375000           C2   \n",
       "2   ID00003       0.841110        0.02             0.384615           C3   \n",
       "3   ID00004       0.900277        0.11             0.432692           C4   \n",
       "4   ID00005       0.596403        0.11             0.634615           C5   \n",
       "\n",
       "   population_density  make segment model fuel_type  ... is_brake_assist  \\\n",
       "0                4990     1       A    M1       CNG  ...              No   \n",
       "1               27003     1       A    M1       CNG  ...              No   \n",
       "2                4076     1       A    M1       CNG  ...              No   \n",
       "3               21622     1      C1    M2    Petrol  ...             Yes   \n",
       "4               34738     2       A    M3    Petrol  ...              No   \n",
       "\n",
       "  is_power_door_locks is_central_locking  is_power_steering  \\\n",
       "0                  No                 No                Yes   \n",
       "1                  No                 No                Yes   \n",
       "2                  No                 No                Yes   \n",
       "3                 Yes                Yes                Yes   \n",
       "4                 Yes                Yes                Yes   \n",
       "\n",
       "  is_driver_seat_height_adjustable is_day_night_rear_view_mirror is_ecw  \\\n",
       "0                               No                            No     No   \n",
       "1                               No                            No     No   \n",
       "2                               No                            No     No   \n",
       "3                              Yes                           Yes    Yes   \n",
       "4                               No                           Yes    Yes   \n",
       "\n",
       "  is_speed_alert ncap_rating is_claim  \n",
       "0            Yes           0        0  \n",
       "1            Yes           0        0  \n",
       "2            Yes           0        0  \n",
       "3            Yes           2        0  \n",
       "4            Yes           2        0  \n",
       "\n",
       "[5 rows x 44 columns]"
      ]
     },
     "execution_count": 4,
     "metadata": {},
     "output_type": "execute_result"
    }
   ],
   "source": [
    "df1.head(5)"
   ]
  },
  {
   "cell_type": "code",
   "execution_count": 5,
   "id": "262f9bd5",
   "metadata": {},
   "outputs": [
    {
     "data": {
      "text/html": [
       "<div>\n",
       "<style scoped>\n",
       "    .dataframe tbody tr th:only-of-type {\n",
       "        vertical-align: middle;\n",
       "    }\n",
       "\n",
       "    .dataframe tbody tr th {\n",
       "        vertical-align: top;\n",
       "    }\n",
       "\n",
       "    .dataframe thead th {\n",
       "        text-align: right;\n",
       "    }\n",
       "</style>\n",
       "<table border=\"1\" class=\"dataframe\">\n",
       "  <thead>\n",
       "    <tr style=\"text-align: right;\">\n",
       "      <th></th>\n",
       "      <th>policy_tenure</th>\n",
       "      <th>age_of_car</th>\n",
       "      <th>age_of_policyholder</th>\n",
       "      <th>population_density</th>\n",
       "      <th>make</th>\n",
       "      <th>airbags</th>\n",
       "      <th>displacement</th>\n",
       "      <th>cylinder</th>\n",
       "      <th>gear_box</th>\n",
       "      <th>turning_radius</th>\n",
       "      <th>length</th>\n",
       "      <th>width</th>\n",
       "      <th>height</th>\n",
       "      <th>gross_weight</th>\n",
       "      <th>ncap_rating</th>\n",
       "      <th>is_claim</th>\n",
       "    </tr>\n",
       "  </thead>\n",
       "  <tbody>\n",
       "    <tr>\n",
       "      <th>count</th>\n",
       "      <td>58592.000000</td>\n",
       "      <td>58592.000000</td>\n",
       "      <td>58592.000000</td>\n",
       "      <td>58592.000000</td>\n",
       "      <td>58592.000000</td>\n",
       "      <td>58592.000000</td>\n",
       "      <td>58592.000000</td>\n",
       "      <td>58592.000000</td>\n",
       "      <td>58592.000000</td>\n",
       "      <td>58592.000000</td>\n",
       "      <td>58592.000000</td>\n",
       "      <td>58592.000000</td>\n",
       "      <td>58592.00000</td>\n",
       "      <td>58592.000000</td>\n",
       "      <td>58592.000000</td>\n",
       "      <td>58592.000000</td>\n",
       "    </tr>\n",
       "    <tr>\n",
       "      <th>mean</th>\n",
       "      <td>0.611246</td>\n",
       "      <td>0.069424</td>\n",
       "      <td>0.469420</td>\n",
       "      <td>18826.858667</td>\n",
       "      <td>1.763722</td>\n",
       "      <td>3.137066</td>\n",
       "      <td>1162.355851</td>\n",
       "      <td>3.626963</td>\n",
       "      <td>5.245443</td>\n",
       "      <td>4.852893</td>\n",
       "      <td>3850.476891</td>\n",
       "      <td>1672.233667</td>\n",
       "      <td>1553.33537</td>\n",
       "      <td>1385.276813</td>\n",
       "      <td>1.759950</td>\n",
       "      <td>0.063968</td>\n",
       "    </tr>\n",
       "    <tr>\n",
       "      <th>std</th>\n",
       "      <td>0.414156</td>\n",
       "      <td>0.056721</td>\n",
       "      <td>0.122886</td>\n",
       "      <td>17660.174792</td>\n",
       "      <td>1.136988</td>\n",
       "      <td>1.832641</td>\n",
       "      <td>266.304786</td>\n",
       "      <td>0.483616</td>\n",
       "      <td>0.430353</td>\n",
       "      <td>0.228061</td>\n",
       "      <td>311.457119</td>\n",
       "      <td>112.089135</td>\n",
       "      <td>79.62227</td>\n",
       "      <td>212.423085</td>\n",
       "      <td>1.389576</td>\n",
       "      <td>0.244698</td>\n",
       "    </tr>\n",
       "    <tr>\n",
       "      <th>min</th>\n",
       "      <td>0.002735</td>\n",
       "      <td>0.000000</td>\n",
       "      <td>0.288462</td>\n",
       "      <td>290.000000</td>\n",
       "      <td>1.000000</td>\n",
       "      <td>1.000000</td>\n",
       "      <td>796.000000</td>\n",
       "      <td>3.000000</td>\n",
       "      <td>5.000000</td>\n",
       "      <td>4.500000</td>\n",
       "      <td>3445.000000</td>\n",
       "      <td>1475.000000</td>\n",
       "      <td>1475.00000</td>\n",
       "      <td>1051.000000</td>\n",
       "      <td>0.000000</td>\n",
       "      <td>0.000000</td>\n",
       "    </tr>\n",
       "    <tr>\n",
       "      <th>25%</th>\n",
       "      <td>0.210250</td>\n",
       "      <td>0.020000</td>\n",
       "      <td>0.365385</td>\n",
       "      <td>6112.000000</td>\n",
       "      <td>1.000000</td>\n",
       "      <td>2.000000</td>\n",
       "      <td>796.000000</td>\n",
       "      <td>3.000000</td>\n",
       "      <td>5.000000</td>\n",
       "      <td>4.600000</td>\n",
       "      <td>3445.000000</td>\n",
       "      <td>1515.000000</td>\n",
       "      <td>1475.00000</td>\n",
       "      <td>1185.000000</td>\n",
       "      <td>0.000000</td>\n",
       "      <td>0.000000</td>\n",
       "    </tr>\n",
       "    <tr>\n",
       "      <th>50%</th>\n",
       "      <td>0.573792</td>\n",
       "      <td>0.060000</td>\n",
       "      <td>0.451923</td>\n",
       "      <td>8794.000000</td>\n",
       "      <td>1.000000</td>\n",
       "      <td>2.000000</td>\n",
       "      <td>1197.000000</td>\n",
       "      <td>4.000000</td>\n",
       "      <td>5.000000</td>\n",
       "      <td>4.800000</td>\n",
       "      <td>3845.000000</td>\n",
       "      <td>1735.000000</td>\n",
       "      <td>1530.00000</td>\n",
       "      <td>1335.000000</td>\n",
       "      <td>2.000000</td>\n",
       "      <td>0.000000</td>\n",
       "    </tr>\n",
       "    <tr>\n",
       "      <th>75%</th>\n",
       "      <td>1.039104</td>\n",
       "      <td>0.110000</td>\n",
       "      <td>0.548077</td>\n",
       "      <td>27003.000000</td>\n",
       "      <td>3.000000</td>\n",
       "      <td>6.000000</td>\n",
       "      <td>1493.000000</td>\n",
       "      <td>4.000000</td>\n",
       "      <td>5.000000</td>\n",
       "      <td>5.000000</td>\n",
       "      <td>3995.000000</td>\n",
       "      <td>1755.000000</td>\n",
       "      <td>1635.00000</td>\n",
       "      <td>1510.000000</td>\n",
       "      <td>3.000000</td>\n",
       "      <td>0.000000</td>\n",
       "    </tr>\n",
       "    <tr>\n",
       "      <th>max</th>\n",
       "      <td>1.396641</td>\n",
       "      <td>1.000000</td>\n",
       "      <td>1.000000</td>\n",
       "      <td>73430.000000</td>\n",
       "      <td>5.000000</td>\n",
       "      <td>6.000000</td>\n",
       "      <td>1498.000000</td>\n",
       "      <td>4.000000</td>\n",
       "      <td>6.000000</td>\n",
       "      <td>5.200000</td>\n",
       "      <td>4300.000000</td>\n",
       "      <td>1811.000000</td>\n",
       "      <td>1825.00000</td>\n",
       "      <td>1720.000000</td>\n",
       "      <td>5.000000</td>\n",
       "      <td>1.000000</td>\n",
       "    </tr>\n",
       "  </tbody>\n",
       "</table>\n",
       "</div>"
      ],
      "text/plain": [
       "       policy_tenure    age_of_car  age_of_policyholder  population_density  \\\n",
       "count   58592.000000  58592.000000         58592.000000        58592.000000   \n",
       "mean        0.611246      0.069424             0.469420        18826.858667   \n",
       "std         0.414156      0.056721             0.122886        17660.174792   \n",
       "min         0.002735      0.000000             0.288462          290.000000   \n",
       "25%         0.210250      0.020000             0.365385         6112.000000   \n",
       "50%         0.573792      0.060000             0.451923         8794.000000   \n",
       "75%         1.039104      0.110000             0.548077        27003.000000   \n",
       "max         1.396641      1.000000             1.000000        73430.000000   \n",
       "\n",
       "               make       airbags  displacement      cylinder      gear_box  \\\n",
       "count  58592.000000  58592.000000  58592.000000  58592.000000  58592.000000   \n",
       "mean       1.763722      3.137066   1162.355851      3.626963      5.245443   \n",
       "std        1.136988      1.832641    266.304786      0.483616      0.430353   \n",
       "min        1.000000      1.000000    796.000000      3.000000      5.000000   \n",
       "25%        1.000000      2.000000    796.000000      3.000000      5.000000   \n",
       "50%        1.000000      2.000000   1197.000000      4.000000      5.000000   \n",
       "75%        3.000000      6.000000   1493.000000      4.000000      5.000000   \n",
       "max        5.000000      6.000000   1498.000000      4.000000      6.000000   \n",
       "\n",
       "       turning_radius        length         width       height  gross_weight  \\\n",
       "count    58592.000000  58592.000000  58592.000000  58592.00000  58592.000000   \n",
       "mean         4.852893   3850.476891   1672.233667   1553.33537   1385.276813   \n",
       "std          0.228061    311.457119    112.089135     79.62227    212.423085   \n",
       "min          4.500000   3445.000000   1475.000000   1475.00000   1051.000000   \n",
       "25%          4.600000   3445.000000   1515.000000   1475.00000   1185.000000   \n",
       "50%          4.800000   3845.000000   1735.000000   1530.00000   1335.000000   \n",
       "75%          5.000000   3995.000000   1755.000000   1635.00000   1510.000000   \n",
       "max          5.200000   4300.000000   1811.000000   1825.00000   1720.000000   \n",
       "\n",
       "        ncap_rating      is_claim  \n",
       "count  58592.000000  58592.000000  \n",
       "mean       1.759950      0.063968  \n",
       "std        1.389576      0.244698  \n",
       "min        0.000000      0.000000  \n",
       "25%        0.000000      0.000000  \n",
       "50%        2.000000      0.000000  \n",
       "75%        3.000000      0.000000  \n",
       "max        5.000000      1.000000  "
      ]
     },
     "execution_count": 5,
     "metadata": {},
     "output_type": "execute_result"
    }
   ],
   "source": [
    "df1.describe()"
   ]
  },
  {
   "cell_type": "code",
   "execution_count": 6,
   "id": "6ec249fd",
   "metadata": {},
   "outputs": [
    {
     "name": "stdout",
     "output_type": "stream",
     "text": [
      "<class 'pandas.core.frame.DataFrame'>\n",
      "RangeIndex: 58592 entries, 0 to 58591\n",
      "Data columns (total 44 columns):\n",
      " #   Column                            Non-Null Count  Dtype  \n",
      "---  ------                            --------------  -----  \n",
      " 0   policy_id                         58592 non-null  object \n",
      " 1   policy_tenure                     58592 non-null  float64\n",
      " 2   age_of_car                        58592 non-null  float64\n",
      " 3   age_of_policyholder               58592 non-null  float64\n",
      " 4   area_cluster                      58592 non-null  object \n",
      " 5   population_density                58592 non-null  int64  \n",
      " 6   make                              58592 non-null  int64  \n",
      " 7   segment                           58592 non-null  object \n",
      " 8   model                             58592 non-null  object \n",
      " 9   fuel_type                         58592 non-null  object \n",
      " 10  max_torque                        58592 non-null  object \n",
      " 11  max_power                         58592 non-null  object \n",
      " 12  engine_type                       58592 non-null  object \n",
      " 13  airbags                           58592 non-null  int64  \n",
      " 14  is_esc                            58592 non-null  object \n",
      " 15  is_adjustable_steering            58592 non-null  object \n",
      " 16  is_tpms                           58592 non-null  object \n",
      " 17  is_parking_sensors                58592 non-null  object \n",
      " 18  is_parking_camera                 58592 non-null  object \n",
      " 19  rear_brakes_type                  58592 non-null  object \n",
      " 20  displacement                      58592 non-null  int64  \n",
      " 21  cylinder                          58592 non-null  int64  \n",
      " 22  transmission_type                 58592 non-null  object \n",
      " 23  gear_box                          58592 non-null  int64  \n",
      " 24  steering_type                     58592 non-null  object \n",
      " 25  turning_radius                    58592 non-null  float64\n",
      " 26  length                            58592 non-null  int64  \n",
      " 27  width                             58592 non-null  int64  \n",
      " 28  height                            58592 non-null  int64  \n",
      " 29  gross_weight                      58592 non-null  int64  \n",
      " 30  is_front_fog_lights               58592 non-null  object \n",
      " 31  is_rear_window_wiper              58592 non-null  object \n",
      " 32  is_rear_window_washer             58592 non-null  object \n",
      " 33  is_rear_window_defogger           58592 non-null  object \n",
      " 34  is_brake_assist                   58592 non-null  object \n",
      " 35  is_power_door_locks               58592 non-null  object \n",
      " 36  is_central_locking                58592 non-null  object \n",
      " 37  is_power_steering                 58592 non-null  object \n",
      " 38  is_driver_seat_height_adjustable  58592 non-null  object \n",
      " 39  is_day_night_rear_view_mirror     58592 non-null  object \n",
      " 40  is_ecw                            58592 non-null  object \n",
      " 41  is_speed_alert                    58592 non-null  object \n",
      " 42  ncap_rating                       58592 non-null  int64  \n",
      " 43  is_claim                          58592 non-null  int64  \n",
      "dtypes: float64(4), int64(12), object(28)\n",
      "memory usage: 19.7+ MB\n"
     ]
    }
   ],
   "source": [
    "df1.info()"
   ]
  },
  {
   "cell_type": "code",
   "execution_count": 7,
   "id": "35acd728",
   "metadata": {},
   "outputs": [
    {
     "name": "stdout",
     "output_type": "stream",
     "text": [
      "policy_id : 58592\n",
      "area_cluster : 22\n",
      "segment : 6\n",
      "model : 11\n",
      "fuel_type : 3\n",
      "max_torque : 9\n",
      "max_power : 9\n",
      "engine_type : 11\n",
      "steering_type : 3\n"
     ]
    }
   ],
   "source": [
    "for i in range(len(df1.columns)):\n",
    "    if (df1.iloc[:,i].dtypes == 'object'):\n",
    "        if(df1.iloc[:,i].nunique()>2):\n",
    "            print(df1.columns[i], \":\", df1.iloc[:,i].nunique())"
   ]
  },
  {
   "cell_type": "markdown",
   "id": "2f0ca1a0",
   "metadata": {},
   "source": [
    "## 3. Exploratory Data Analysis( EDA)"
   ]
  },
  {
   "cell_type": "markdown",
   "id": "5e56a996",
   "metadata": {},
   "source": [
    "### The target feature is highly imbalanced from the below pie chart"
   ]
  },
  {
   "cell_type": "code",
   "execution_count": 8,
   "id": "f93808cd",
   "metadata": {},
   "outputs": [
    {
     "name": "stdout",
     "output_type": "stream",
     "text": [
      "0    54844\n",
      "1     3748\n",
      "Name: is_claim, dtype: int64\n"
     ]
    },
    {
     "data": {
      "image/png": "[encoded data removed]",
      "text/plain": [
       "<Figure size 432x288 with 1 Axes>"
      ]
     },
     "metadata": {},
     "output_type": "display_data"
    }
   ],
   "source": [
    "plt.pie(df1['is_claim'].value_counts(),labels=df1['is_claim'].value_counts().index)\n",
    "print(df1['is_claim'].value_counts())"
   ]
  },
  {
   "cell_type": "markdown",
   "id": "3b36c60a",
   "metadata": {},
   "source": [
    "### After performing the jarque bera stat test the features which aren't following the normal distribution are below"
   ]
  },
  {
   "cell_type": "code",
   "execution_count": 9,
   "id": "78e14f93",
   "metadata": {},
   "outputs": [
    {
     "name": "stdout",
     "output_type": "stream",
     "text": [
      "population_density\n",
      "make\n",
      "airbags\n",
      "displacement\n",
      "cylinder\n",
      "gear_box\n",
      "length\n",
      "width\n",
      "height\n",
      "gross_weight\n",
      "ncap_rating\n",
      "is_claim\n"
     ]
    }
   ],
   "source": [
    "non_normal_features=[]\n",
    "for i in range(len(df1.columns)):\n",
    "    if (df1.iloc[:,i].dtypes == 'int64'):\n",
    "        if (jarque_bera(df1.iloc[:,i])[1]<=0.05):\n",
    "            print(df1.columns[i])\n",
    "            non_normal_features.append(df1.columns[i])"
   ]
  },
  {
   "cell_type": "markdown",
   "id": "dd0eebb5",
   "metadata": {},
   "source": [
    "### finding the presence of outliers"
   ]
  },
  {
   "cell_type": "code",
   "execution_count": 10,
   "id": "ae5fe9f7",
   "metadata": {},
   "outputs": [],
   "source": [
    "def outlier_treatment(datacolumn,datacolumnname):\n",
    "    sorted(datacolumn)\n",
    "    Q1,Q3 = np.percentile(datacolumn , [25,75])\n",
    "    IQR = Q3-Q1\n",
    "    lower_range = Q1-(1.5 * IQR)\n",
    "    upper_range = Q3+(1.5 * IQR)\n",
    "    outlier=len(df1[((datacolumn<(lower_range)) | (datacolumn>(upper_range)))])\n",
    "    print(datacolumnname,\"has\",outlier,\"outliers\")"
   ]
  },
  {
   "cell_type": "code",
   "execution_count": 11,
   "id": "26174952",
   "metadata": {},
   "outputs": [
    {
     "name": "stdout",
     "output_type": "stream",
     "text": [
      "policy_tenure has 0 outliers\n",
      "age_of_car has 269 outliers\n",
      "age_of_policyholder has 221 outliers\n",
      "population_density has 3647 outliers\n",
      "make has 0 outliers\n",
      "airbags has 0 outliers\n",
      "displacement has 0 outliers\n",
      "cylinder has 0 outliers\n",
      "gear_box has 14381 outliers\n",
      "turning_radius has 0 outliers\n",
      "length has 0 outliers\n",
      "width has 0 outliers\n",
      "height has 0 outliers\n",
      "gross_weight has 0 outliers\n",
      "ncap_rating has 0 outliers\n",
      "is_claim has 3748 outliers\n"
     ]
    }
   ],
   "source": [
    "for i in df1.columns:\n",
    "    if (df1[i].dtypes=='int64'or df1[i].dtypes=='float64'):\n",
    "        outlier_treatment(df1[i],i)"
   ]
  },
  {
   "cell_type": "code",
   "execution_count": 12,
   "id": "bd6be9fb",
   "metadata": {},
   "outputs": [
    {
     "data": {
      "text/plain": [
       "0.01    6362\n",
       "0.00    5257\n",
       "0.02    5189\n",
       "0.03    4415\n",
       "0.04    3763\n",
       "0.05    3342\n",
       "0.10    3123\n",
       "0.06    3053\n",
       "0.07    2888\n",
       "0.08    2730\n",
       "0.09    2643\n",
       "0.12    2506\n",
       "0.11    2442\n",
       "0.13    2315\n",
       "0.14    2151\n",
       "0.15    1964\n",
       "0.16    1291\n",
       "0.17     931\n",
       "0.18     738\n",
       "0.19     458\n",
       "0.20     287\n",
       "0.21     172\n",
       "0.22     148\n",
       "0.23      90\n",
       "0.24      65\n",
       "0.25      46\n",
       "0.30      32\n",
       "0.27      29\n",
       "0.31      26\n",
       "0.28      25\n",
       "0.26      24\n",
       "0.29      21\n",
       "0.32      13\n",
       "0.33      12\n",
       "0.36       8\n",
       "0.34       6\n",
       "0.39       5\n",
       "0.38       4\n",
       "1.00       3\n",
       "0.37       3\n",
       "0.49       2\n",
       "0.46       2\n",
       "0.44       2\n",
       "0.42       1\n",
       "0.45       1\n",
       "0.35       1\n",
       "0.82       1\n",
       "0.62       1\n",
       "0.81       1\n",
       "Name: age_of_car, dtype: int64"
      ]
     },
     "execution_count": 12,
     "metadata": {},
     "output_type": "execute_result"
    }
   ],
   "source": [
    "df1['age_of_car'].value_counts()"
   ]
  },
  {
   "cell_type": "code",
   "execution_count": 13,
   "id": "ea64f466",
   "metadata": {},
   "outputs": [
    {
     "data": {
      "text/plain": [
       "0.375000    1779\n",
       "0.365385    1766\n",
       "0.346154    1733\n",
       "0.355769    1724\n",
       "0.394231    1715\n",
       "            ... \n",
       "0.961538       2\n",
       "0.971154       1\n",
       "0.990385       1\n",
       "0.980769       1\n",
       "1.000000       1\n",
       "Name: age_of_policyholder, Length: 75, dtype: int64"
      ]
     },
     "execution_count": 13,
     "metadata": {},
     "output_type": "execute_result"
    }
   ],
   "source": [
    "df1['age_of_policyholder'].value_counts()"
   ]
  },
  {
   "cell_type": "code",
   "execution_count": 14,
   "id": "4040efbf",
   "metadata": {},
   "outputs": [
    {
     "data": {
      "text/plain": [
       "8794     13654\n",
       "27003     7342\n",
       "34738     6979\n",
       "4076      6101\n",
       "7788      3660\n",
       "5410      3423\n",
       "73430     3155\n",
       "17804     2734\n",
       "6112      2167\n",
       "34791     1589\n",
       "4990      1468\n",
       "6108      1212\n",
       "27742      952\n",
       "13051      890\n",
       "290        771\n",
       "21622      665\n",
       "65567      492\n",
       "16206      401\n",
       "3264       379\n",
       "35036      242\n",
       "16733      207\n",
       "20905      109\n",
       "Name: population_density, dtype: int64"
      ]
     },
     "execution_count": 14,
     "metadata": {},
     "output_type": "execute_result"
    }
   ],
   "source": [
    "df1['population_density'].value_counts()"
   ]
  },
  {
   "cell_type": "code",
   "execution_count": 15,
   "id": "f30f2246",
   "metadata": {},
   "outputs": [
    {
     "data": {
      "text/plain": [
       "<AxesSubplot:xlabel='population_density', ylabel='Density'>"
      ]
     },
     "execution_count": 15,
     "metadata": {},
     "output_type": "execute_result"
    },
    {
     "data": {
      "image/png": "[encoded data removed]",
      "text/plain": [
       "<Figure size 432x288 with 1 Axes>"
      ]
     },
     "metadata": {
      "needs_background": "light"
     },
     "output_type": "display_data"
    }
   ],
   "source": [
    "sns.kdeplot(df1['population_density'])"
   ]
  },
  {
   "cell_type": "code",
   "execution_count": 16,
   "id": "c3cbf9fd",
   "metadata": {},
   "outputs": [
    {
     "data": {
      "text/plain": [
       "<AxesSubplot:>"
      ]
     },
     "execution_count": 16,
     "metadata": {},
     "output_type": "execute_result"
    },
    {
     "data": {
      "image/png": "[encoded data removed]",
      "text/plain": [
       "<Figure size 432x288 with 4 Axes>"
      ]
     },
     "metadata": {
      "needs_background": "light"
     },
     "output_type": "display_data"
    }
   ],
   "source": [
    "fig,axes=plt.subplots(2,2)\n",
    "sns.boxplot(data=df1['age_of_car'],ax=axes[0,0])\n",
    "sns.boxplot(data=df1['age_of_policyholder'],ax=axes[0,1])\n",
    "sns.boxplot(data=df1['population_density'],ax=axes[1,0])\n",
    "sns.boxplot(data=df1['gear_box'],ax=axes[1,1])"
   ]
  },
  {
   "cell_type": "code",
   "execution_count": 17,
   "id": "6adc3931",
   "metadata": {},
   "outputs": [
    {
     "data": {
      "text/plain": [
       "5    44211\n",
       "6    14381\n",
       "Name: gear_box, dtype: int64"
      ]
     },
     "execution_count": 17,
     "metadata": {},
     "output_type": "execute_result"
    }
   ],
   "source": [
    "df1['gear_box'].value_counts()"
   ]
  },
  {
   "cell_type": "code",
   "execution_count": 18,
   "id": "78613f49",
   "metadata": {},
   "outputs": [
    {
     "data": {
      "text/plain": [
       "<AxesSubplot:xlabel='gear_box', ylabel='Density'>"
      ]
     },
     "execution_count": 18,
     "metadata": {},
     "output_type": "execute_result"
    },
    {
     "data": {
      "image/png": "[encoded data removed]",
      "text/plain": [
       "<Figure size 432x288 with 1 Axes>"
      ]
     },
     "metadata": {
      "needs_background": "light"
     },
     "output_type": "display_data"
    }
   ],
   "source": [
    "sns.kdeplot(df1['gear_box'])"
   ]
  },
  {
   "cell_type": "code",
   "execution_count": 19,
   "id": "aab32b04",
   "metadata": {},
   "outputs": [
    {
     "data": {
      "text/plain": [
       "<seaborn.axisgrid.FacetGrid at 0x223e49c4e50>"
      ]
     },
     "execution_count": 19,
     "metadata": {},
     "output_type": "execute_result"
    },
    {
     "data": {
      "image/png": "[encoded data removed]",
      "text/plain": [
       "<Figure size 360x360 with 1 Axes>"
      ]
     },
     "metadata": {
      "needs_background": "light"
     },
     "output_type": "display_data"
    }
   ],
   "source": [
    "sns.displot(data=df1['gear_box'])"
   ]
  },
  {
   "cell_type": "markdown",
   "id": "94df09c1",
   "metadata": {},
   "source": [
    "## 4. Data Preprocessing"
   ]
  },
  {
   "cell_type": "markdown",
   "id": "389f6f38",
   "metadata": {},
   "source": [
    "### Droping ID feature"
   ]
  },
  {
   "cell_type": "code",
   "execution_count": 20,
   "id": "9b6a4ecd",
   "metadata": {},
   "outputs": [],
   "source": [
    "df1.drop('policy_id',axis=1,inplace=True)"
   ]
  },
  {
   "cell_type": "markdown",
   "id": "a05b1739",
   "metadata": {},
   "source": [
    "### Converting categorical variables to Numeric"
   ]
  },
  {
   "cell_type": "code",
   "execution_count": 21,
   "id": "04ece04e",
   "metadata": {},
   "outputs": [],
   "source": [
    "df2 = pd.get_dummies(df1,columns = ['area_cluster', 'segment','model','fuel_type','max_torque','max_power','engine_type','steering_type'])"
   ]
  },
  {
   "cell_type": "code",
   "execution_count": 22,
   "id": "d517335c",
   "metadata": {},
   "outputs": [
    {
     "name": "stdout",
     "output_type": "stream",
     "text": [
      "No     40191\n",
      "Yes    18401\n",
      "Name: is_esc, dtype: int64\n",
      "Yes    35526\n",
      "No     23066\n",
      "Name: is_adjustable_steering, dtype: int64\n",
      "No     44574\n",
      "Yes    14018\n",
      "Name: is_tpms, dtype: int64\n",
      "Yes    56219\n",
      "No      2373\n",
      "Name: is_parking_sensors, dtype: int64\n",
      "No     35704\n",
      "Yes    22888\n",
      "Name: is_parking_camera, dtype: int64\n",
      "Drum    44574\n",
      "Disc    14018\n",
      "Name: rear_brakes_type, dtype: int64\n",
      "Manual       38181\n",
      "Automatic    20411\n",
      "Name: transmission_type, dtype: int64\n",
      "Yes    33928\n",
      "No     24664\n",
      "Name: is_front_fog_lights, dtype: int64\n",
      "No     41634\n",
      "Yes    16958\n",
      "Name: is_rear_window_wiper, dtype: int64\n",
      "No     41634\n",
      "Yes    16958\n",
      "Name: is_rear_window_washer, dtype: int64\n",
      "No     38077\n",
      "Yes    20515\n",
      "Name: is_rear_window_defogger, dtype: int64\n",
      "Yes    32177\n",
      "No     26415\n",
      "Name: is_brake_assist, dtype: int64\n",
      "Yes    42435\n",
      "No     16157\n",
      "Name: is_power_door_locks, dtype: int64\n",
      "Yes    42435\n",
      "No     16157\n",
      "Name: is_central_locking, dtype: int64\n",
      "Yes    57383\n",
      "No      1209\n",
      "Name: is_power_steering, dtype: int64\n",
      "Yes    34291\n",
      "No     24301\n",
      "Name: is_driver_seat_height_adjustable, dtype: int64\n",
      "No     36309\n",
      "Yes    22283\n",
      "Name: is_day_night_rear_view_mirror, dtype: int64\n",
      "Yes    42435\n",
      "No     16157\n",
      "Name: is_ecw, dtype: int64\n",
      "Yes    58229\n",
      "No       363\n",
      "Name: is_speed_alert, dtype: int64\n"
     ]
    }
   ],
   "source": [
    "for i in df2.columns:\n",
    "    if df2[i].dtypes=='object':\n",
    "        print(df2[i].value_counts())"
   ]
  },
  {
   "cell_type": "code",
   "execution_count": 23,
   "id": "01b888eb",
   "metadata": {},
   "outputs": [],
   "source": [
    "mapper={'is_esc':{'No':0,'Yes':1},\n",
    "         'is_adjustable_steering':{'No':0,'Yes':1},\n",
    "          'is_tpms':{'No':0,'Yes':1},\n",
    "         'is_parking_sensors':{'No':0,'Yes':1},\n",
    "         'is_parking_camera':{'No':0,'Yes':1},\n",
    "         'rear_brakes_type':{'Drum':0,'Disc':1},\n",
    "         'transmission_type':{'Manual':0,'Automatic':1},\n",
    "         'is_front_fog_lights':{'No':0,'Yes':1},\n",
    "        'is_rear_window_wiper':{'No':0,'Yes':1},\n",
    "         'is_rear_window_washer':{'No':0,'Yes':1},\n",
    "         'is_rear_window_defogger':{'No':0,'Yes':1},\n",
    "         'is_brake_assist':{'No':0,'Yes':1},\n",
    "        'is_power_door_locks':{'No':0,'Yes':1},\n",
    "         'is_central_locking':{'No':0,'Yes':1},\n",
    "         'is_power_steering':{'No':0,'Yes':1},\n",
    "         'is_driver_seat_height_adjustable':{'No':0,'Yes':1},\n",
    "         'is_day_night_rear_view_mirror':{'No':0,'Yes':1},\n",
    "         'is_ecw':{'No':0,'Yes':1},\n",
    "        'is_speed_alert':{'No':0,'Yes':1},\n",
    "        }"
   ]
  },
  {
   "cell_type": "code",
   "execution_count": 24,
   "id": "16c52fe6",
   "metadata": {},
   "outputs": [],
   "source": [
    "df2=df2.replace(mapper)"
   ]
  },
  {
   "cell_type": "code",
   "execution_count": 25,
   "id": "8374ba78",
   "metadata": {},
   "outputs": [
    {
     "name": "stdout",
     "output_type": "stream",
     "text": [
      "The dataset doesn't have any duplicates\n"
     ]
    }
   ],
   "source": [
    "#Removal of any Duplicate rows (if any)\n",
    "counter = 0\n",
    "r,c = df2.shape\n",
    "\n",
    "df3 = df2.copy()\n",
    "df3.drop_duplicates(inplace=True)\n",
    "df3.reset_index(drop=True,inplace=True)\n",
    "\n",
    "if df3.shape==(r,c):\n",
    "    print('The dataset doesn\\'t have any duplicates')\n",
    "else:\n",
    "    print(f'[Number of duplicates dropped ---> {r-df3.shape[0]}')"
   ]
  },
  {
   "cell_type": "code",
   "execution_count": 26,
   "id": "ff7e804e",
   "metadata": {},
   "outputs": [
    {
     "name": "stdout",
     "output_type": "stream",
     "text": [
      "policy_tenure\n",
      "age_of_car\n",
      "age_of_policyholder\n",
      "population_density\n",
      "make\n",
      "airbags\n",
      "displacement\n",
      "turning_radius\n",
      "length\n",
      "width\n",
      "height\n",
      "gross_weight\n",
      "ncap_rating\n",
      "[Before removal of outliers, The dataset had 58592 samples.\n",
      "[After removal of outliers, The dataset now has 54480 samples.\n"
     ]
    }
   ],
   "source": [
    "#Removal of outlier:\n",
    "\n",
    "df4 = df2.copy()\n",
    "\n",
    "for i in [i for i in df4.columns]:\n",
    "    if df4[i].nunique()>=3:\n",
    "        print(i)\n",
    "        Q1 = df4[i].quantile(0.25)\n",
    "        Q3 = df4[i].quantile(0.75)\n",
    "        IQR = Q3 - Q1\n",
    "        df4 = df4[df4[i] <= (Q3+(1.5*IQR))]\n",
    "        df4 = df4[df4[i] >= (Q1-(1.5*IQR))]\n",
    "df4 = df4.reset_index(drop=True)\n",
    "print('[Before removal of outliers, The dataset had {} samples.'.format(df2.shape[0]))\n",
    "print('[After removal of outliers, The dataset now has {} samples.'.format(df4.shape[0]))"
   ]
  },
  {
   "cell_type": "markdown",
   "id": "02405ec5",
   "metadata": {},
   "source": [
    "## 5. Data Augmentation"
   ]
  },
  {
   "cell_type": "code",
   "execution_count": 27,
   "id": "86fb7196",
   "metadata": {},
   "outputs": [
    {
     "name": "stdout",
     "output_type": "stream",
     "text": [
      "Original class distribution:\n",
      "0    50935\n",
      "1     3545\n",
      "Name: is_claim, dtype: int64\n",
      "\n",
      "Class distribution after applying SMOTE Technique:\n",
      "0    50935\n",
      "1    50935\n",
      "Name: is_claim, dtype: int64\n"
     ]
    }
   ],
   "source": [
    "#Fixing the imbalance using SMOTE Technique\n",
    "\n",
    "df5 = df4.copy()\n",
    "\n",
    "print('Original class distribution:')\n",
    "print(df5['is_claim'].value_counts())\n",
    "\n",
    "xf = df5.columns\n",
    "X = df5.drop('is_claim',axis=1)\n",
    "Y = df5['is_claim']\n",
    "\n",
    "smote = SMOTE()\n",
    "X, Y = smote.fit_resample(X, Y)\n",
    "\n",
    "df5 = pd.DataFrame(X, columns=xf)\n",
    "df5['is_claim'] = Y\n",
    "\n",
    "print('\\nClass distribution after applying SMOTE Technique:',)\n",
    "print(Y.value_counts())"
   ]
  },
  {
   "cell_type": "code",
   "execution_count": 28,
   "id": "f69c4bc1",
   "metadata": {},
   "outputs": [
    {
     "data": {
      "image/png": "[encoded data removed]",
      "text/plain": [
       "<Figure size 432x288 with 1 Axes>"
      ]
     },
     "metadata": {},
     "output_type": "display_data"
    },
    {
     "name": "stdout",
     "output_type": "stream",
     "text": [
      "[The final dataset after cleanup has 101870 samples & 109 columns.\n"
     ]
    }
   ],
   "source": [
    "#Final Dataset size after performing Preprocessing\n",
    "df = df5.copy()\n",
    "plt.title('Final Dataset Samples')\n",
    "plt.pie([df.shape[0], df1.shape[0]-df4.shape[0], df5.shape[0]-df4.shape[0]], radius = 1, shadow=True,\n",
    "        labels=['Retained','Dropped','Augmented'], counterclock=False, autopct='%1.1f%%', pctdistance=0.9, explode=[0,0,0])\n",
    "plt.pie([df.shape[0]], labels=['100%'], labeldistance=-2, radius=0.58, shadow=True)\n",
    "plt.show()\n",
    "\n",
    "print('[The final dataset after cleanup has {} samples & {} columns.'.format(df.shape[0], df.shape[1]))"
   ]
  },
  {
   "cell_type": "markdown",
   "id": "9b44a10e",
   "metadata": {},
   "source": [
    "## 6. Feature Selection"
   ]
  },
  {
   "cell_type": "code",
   "execution_count": 29,
   "id": "6eafb6d9",
   "metadata": {},
   "outputs": [],
   "source": [
    "X = df.drop('is_claim',axis=1)\n",
    "Y = df['is_claim']\n",
    "Train_X, Test_X, Train_Y, Test_Y =train_test_split(X,Y,test_size=0.2,random_state=42)"
   ]
  },
  {
   "cell_type": "code",
   "execution_count": 30,
   "id": "ba1ac4f7",
   "metadata": {},
   "outputs": [],
   "source": [
    "#Feature Scaling (Standardization)\n",
    "\n",
    "# std = StandardScaler()\n",
    "# Train_X_std = std.fit_transform(Train_X)\n",
    "# Train_X_std = pd.DataFrame(Train_X_std, columns=X.columns)\n",
    "\n",
    "# Test_X_std = std.transform(Test_X)\n",
    "# Test_X_std = pd.DataFrame(Test_X_std, columns=X.columns)"
   ]
  },
  {
   "cell_type": "code",
   "execution_count": 31,
   "id": "a195078f",
   "metadata": {},
   "outputs": [],
   "source": [
    "# configure to select all features\n",
    "fs = SelectKBest(score_func=f_classif, k=10)\n",
    "# learn relationship from training data\n",
    "fs.fit(Train_X, Train_Y)\n",
    "# transform train input data\n",
    "X_train_fs = fs.transform(Train_X)\n",
    "# transform test input data\n",
    "X_test_fs = fs.transform(Test_X)"
   ]
  },
  {
   "cell_type": "code",
   "execution_count": 32,
   "id": "2b49f479",
   "metadata": {},
   "outputs": [
    {
     "data": {
      "text/plain": [
       "policy_tenure                            2406.158395\n",
       "age_of_car                                343.691041\n",
       "model_M11                                 105.526208\n",
       "max_torque_170Nm@4000rpm                  105.526208\n",
       "max_power_118.36bhp@5500rpm               105.526208\n",
       "engine_type_1.5 Turbocharged Revotron     105.526208\n",
       "is_adjustable_steering                     97.358693\n",
       "age_of_policyholder                        95.675562\n",
       "area_cluster_C9                            91.205653\n",
       "cylinder                                   82.157438\n",
       "dtype: float64"
      ]
     },
     "execution_count": 32,
     "metadata": {},
     "output_type": "execute_result"
    }
   ],
   "source": [
    "f_scores=[]\n",
    "for i in range(len(fs.scores_)):\n",
    "    f_scores.append(fs.scores_[i])\n",
    "f_values1=pd.Series(f_scores)\n",
    "f_values1.index=Train_X.columns\n",
    "f_values1.nlargest(10)"
   ]
  },
  {
   "cell_type": "code",
   "execution_count": 33,
   "id": "ad1dbfd1",
   "metadata": {},
   "outputs": [],
   "source": [
    "top_features=['policy_tenure','age_of_car','model_M11','age_of_policyholder','is_adjustable_steering','model_M3']"
   ]
  },
  {
   "cell_type": "code",
   "execution_count": 34,
   "id": "3f7ba8f0",
   "metadata": {},
   "outputs": [],
   "source": [
    "Train_X=Train_X[top_features]\n",
    "Test_X=Test_X[top_features]"
   ]
  },
  {
   "cell_type": "markdown",
   "id": "331a505f",
   "metadata": {},
   "source": [
    "## 7. Model Development"
   ]
  },
  {
   "cell_type": "code",
   "execution_count": 53,
   "id": "bbfa682a",
   "metadata": {},
   "outputs": [
    {
     "name": "stdout",
     "output_type": "stream",
     "text": [
      "[[9738  557]\n",
      " [1243 8836]]\n",
      "0.9116521056248159\n",
      "0.9075595727198028\n",
      "0.9407005216650697\n",
      "0.876674273241393\n"
     ]
    }
   ],
   "source": [
    "#Building Decision Tree Classifier\n",
    "DT_model = DecisionTreeClassifier()\n",
    "\n",
    "param_dist = {\"max_depth\": [3,4,5,None],\n",
    "              \"max_features\": [1,2,3,4,5,6],\n",
    "              \"min_samples_leaf\": [i for i in range(1,10)],\n",
    "              \"criterion\": [\"gini\", \"entropy\"]}\n",
    "\n",
    "cv = RepeatedStratifiedKFold(n_splits=10, n_repeats=3, random_state=1)\n",
    "\n",
    "RCV = RandomizedSearchCV(DT_model, param_dist, n_iter=50, scoring='roc_auc', n_jobs=-1, cv=5, random_state=1)\n",
    "\n",
    "DT = RCV.fit(Train_X,Train_Y).best_estimator_\n",
    "pred = DT.predict(Test_X)\n",
    "print(confusion_matrix(Test_Y,pred))\n",
    "print(accuracy_score(Test_Y,pred))\n",
    "print(f1_score(Test_Y,pred))\n",
    "print(precision_score(Test_Y,pred))\n",
    "print(recall_score(Test_Y,pred))# In[ ]:"
   ]
  },
  {
   "cell_type": "code",
   "execution_count": 55,
   "id": "1b2e59c8",
   "metadata": {},
   "outputs": [
    {
     "name": "stdout",
     "output_type": "stream",
     "text": [
      "[[3957 6338]\n",
      " [3553 6526]]\n",
      "0.5145283204083636\n",
      "0.568888114021706\n",
      "0.5073072139303483\n",
      "0.6474848695307074\n"
     ]
    }
   ],
   "source": [
    "# Building Naive Bayes Classifier\n",
    "\n",
    "NB_model = BernoulliNB()\n",
    "\n",
    "params = {'alpha': [0.01, 0.1, 0.5, 1.0, 10.0]}\n",
    "cv = RepeatedStratifiedKFold(n_splits=10, n_repeats=3, random_state=1)\n",
    "\n",
    "RCV = RandomizedSearchCV(NB_model, params, n_iter=50, scoring='roc_auc', n_jobs=-1, cv=5, random_state=1)\n",
    "\n",
    "NB = RCV.fit(Train_X, Train_Y).best_estimator_\n",
    "pred = NB.predict(Test_X)\n",
    "print(confusion_matrix(Test_Y,pred))\n",
    "print(accuracy_score(Test_Y,pred))\n",
    "print(f1_score(Test_Y,pred))\n",
    "print(precision_score(Test_Y,pred))\n",
    "print(recall_score(Test_Y,pred))"
   ]
  },
  {
   "cell_type": "code",
   "execution_count": 56,
   "id": "d31308c2",
   "metadata": {},
   "outputs": [
    {
     "name": "stdout",
     "output_type": "stream",
     "text": [
      "[[9687  608]\n",
      " [1518 8561]]\n",
      "0.8956513203101992\n",
      "0.889546965918537\n",
      "0.9336896062820373\n",
      "0.8493898204186924\n"
     ]
    }
   ],
   "source": [
    "# Building Gradient Boosting Classifier\n",
    "\n",
    "GB_model = GradientBoostingClassifier().fit(Train_X, Train_Y)\n",
    "param_dist = {\n",
    "    \"n_estimators\":[5,20,100,500],\n",
    "    \"max_depth\":[1,3,5,7,9],\n",
    "    \"learning_rate\":[0.01,0.1,1,10,100]\n",
    "}\n",
    "\n",
    "cv = RepeatedStratifiedKFold(n_splits=10, n_repeats=3, random_state=1)\n",
    "\n",
    "#RCV = RandomizedSearchCV(GB_model, param_dist, n_iter=50, scoring='roc_auc', n_jobs=-1, cv=5, random_state=1)\n",
    "\n",
    "GB = GB_model.fit(Train_X, Train_Y)#.best_estimator_\n",
    "pred = GB.predict(Test_X)\n",
    "print(confusion_matrix(Test_Y,pred))\n",
    "print(accuracy_score(Test_Y,pred))\n",
    "print(f1_score(Test_Y,pred))\n",
    "print(precision_score(Test_Y,pred))\n",
    "print(recall_score(Test_Y,pred))"
   ]
  },
  {
   "cell_type": "code",
   "execution_count": 57,
   "id": "30940d50",
   "metadata": {},
   "outputs": [
    {
     "name": "stdout",
     "output_type": "stream",
     "text": [
      "[[10277    18]\n",
      " [  799  9280]]\n",
      "0.9598998723863748\n",
      "0.9578366104144089\n",
      "0.99806409980641\n",
      "0.9207262625260443\n"
     ]
    }
   ],
   "source": [
    "# Building Extreme Gradient Boosting Classifier\n",
    "\n",
    "XGB_model = XGBClassifier()#.fit(Train_X_std, Train_Y, eval_metric='logloss')\n",
    "\n",
    "param_dist = {\n",
    " \"learning_rate\" : [0.05,0.10,0.15,0.20,0.25,0.30],\n",
    " \"max_depth\" : [ 3, 4, 5, 6, 8, 10, 12, 15],\n",
    " \"min_child_weight\" : [ 1, 3, 5, 7 ],\n",
    " \"gamma\": [ 0.0, 0.1, 0.2 , 0.3, 0.4 ],\n",
    " \"colsample_bytree\" : [ 0.3, 0.4, 0.5 , 0.7 ]\n",
    "}\n",
    "\n",
    "cv = RepeatedStratifiedKFold(n_splits=10, n_repeats=3, random_state=1)\n",
    "\n",
    "RCV = RandomizedSearchCV(XGB_model, param_dist, n_iter=50, scoring='roc_auc', n_jobs=-1, cv=5, random_state=1)\n",
    "\n",
    "XGB = XGB_model.fit(Train_X, Train_Y, eval_metric='logloss')#.best_estimator_\n",
    "pred = XGB.predict(Test_X)\n",
    "print(confusion_matrix(Test_Y,pred))\n",
    "print(accuracy_score(Test_Y,pred))\n",
    "print(f1_score(Test_Y,pred))\n",
    "print(precision_score(Test_Y,pred))\n",
    "print(recall_score(Test_Y,pred))"
   ]
  },
  {
   "cell_type": "markdown",
   "id": "39253888",
   "metadata": {},
   "source": [
    "# Outcomes"
   ]
  },
  {
   "cell_type": "markdown",
   "id": "cc97467f",
   "metadata": {},
   "source": [
    "XGBoost came out to be a nice predictive model for our usecase of Insurance claim prediction"
   ]
  },
  {
   "cell_type": "code",
   "execution_count": null,
   "id": "5a8c2744",
   "metadata": {},
   "outputs": [],
   "source": []
  }
 ],
 "metadata": {
  "kernelspec": {
   "display_name": "Python 3 (ipykernel)",
   "language": "python",
   "name": "python3"
  },
  "language_info": {
   "codemirror_mode": {
    "name": "ipython",
    "version": 3
   },
   "file_extension": ".py",
   "mimetype": "text/x-python",
   "name": "python",
   "nbconvert_exporter": "python",
   "pygments_lexer": "ipython3",
   "version": "3.9.12"
  }
 },
 "nbformat": 4,
 "nbformat_minor": 5
}
